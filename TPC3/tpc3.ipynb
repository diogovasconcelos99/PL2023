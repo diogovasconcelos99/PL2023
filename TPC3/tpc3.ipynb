{
 "cells": [
  {
   "attachments": {},
   "cell_type": "markdown",
   "metadata": {},
   "source": [
    "# TPC3: Processador de Pessoas listadas nos Róis de Confessados\n",
    "\n",
    "(publicado em **2023.02.28**)\n",
    "\n",
    "Construa agora um ou vários programas Python\n",
    "para  processar o texto 'processos.txt' (procurar o ficheiro no Bb) com o intuito de\n",
    "calcular frequências de alguns elementos (a ideia é utilizar arrays associativos, dicionários em Python,\n",
    "para o efeito) conforme solicitado a seguir:"
   ]
  },
  {
   "cell_type": "code",
   "execution_count": 55,
   "metadata": {},
   "outputs": [],
   "source": [
    "import re\n",
    "\n",
    "regex = r'(?P<processo>\\d+)::(?P<data>\\d{4}-\\d{2}-\\d{2})::(?P<nome>[aA-zZ\\s,.]+)::(?P<pai>[aA-zZ\\s,.]+)::(?P<mae>[aA-zZ\\s,.]+)::(?P<obs>[^::]*)::'\n",
    "compile = re.compile(regex)\n",
    "\n",
    "confessados = []\n",
    "\n",
    "with open('processos.txt', 'r') as processos:\n",
    "    for line in processos.readlines():\n",
    "        element = compile.match(line)\n",
    "        if element != None:\n",
    "            confessados.append(element.groupdict())\n",
    "\n",
    "processos.close()"
   ]
  },
  {
   "attachments": {},
   "cell_type": "markdown",
   "metadata": {},
   "source": [
    "> a) Calcula a frequência de processos por ano (primeiro elemento da data);"
   ]
  },
  {
   "cell_type": "code",
   "execution_count": 56,
   "metadata": {},
   "outputs": [
    {
     "name": "stdout",
     "output_type": "stream",
     "text": [
      "{'1894': 74, '1909': 39, '1867': 53, '1896': 71, '1904': 45, '1901': 59, '1883': 34, '1900': 47, '1902': 80, '1880': 61, '1889': 65, '1908': 48, '1869': 39, '1862': 40, '1906': 63, '1856': 71, '1875': 15, '1892': 53, '1733': 1105, '1778': 1052, '1730': 1191, '1899': 77, '1898': 91, '1877': 46, '1910': 27, '1881': 62, '1907': 45, '1884': 43, '1879': 54, '1895': 76, '1897': 68, '1707': 112, '1689': 615, '1713': 263, '1824': 248, '1691': 584, '1703': 138, '1720': 172, '1890': 43, '1732': 2140, '1683': 139, '1863': 28, '1729': 41, '1694': 45, '1765': 9, '1754': 300, '1690': 179, '1755': 301, '1823': 212, '1708': 149, '1757': 31, '1699': 96, '1759': 88, '1712': 69, '1687': 92, '1738': 183, '1717': 267, '1684': 234, '1704': 178, '1688': 109, '1888': 70, '1734': 816, '1786': 348, '1798': 54, '1773': 480, '1821': 301, '1822': 298, '1809': 289, '1722': 454, '1680': 155, '1728': 440, '1716': 235, '1849': 115, '1777': 1127, '1851': 65, '1785': 792, '1857': 75, '1686': 182, '1784': 354, '1780': 217, '1727': 169, '1788': 402, '1719': 382, '1847': 126, '1799': 103, '1829': 161, '1787': 729, '1805': 109, '1819': 237, '1844': 192, '1891': 72, '1731': 882, '1760': 278, '1741': 31, '1725': 272, '1802': 88, '1827': 95, '1885': 8, '1807': 585, '1710': 193, '1692': 165, '1706': 112, '1858': 46, '1739': 54, '1826': 168, '1714': 314, '1762': 341, '1743': 53, '1724': 110, '1697': 26, '1852': 73, '1740': 11, '1855': 82, '1723': 127, '1859': 84, '1811': 234, '1817': 202, '1685': 231, '1905': 42, '1893': 77, '1865': 40, '1848': 123, '1911': 16, '1882': 48, '1735': 133, '1871': 35, '1903': 20, '1850': 112, '1825': 153, '1843': 290, '1860': 72, '1812': 254, '1846': 85, '1845': 121, '1701': 106, '1746': 48, '1868': 21, '1715': 88, '1803': 164, '1830': 169, '1761': 378, '1766': 9, '1672': 15, '1876': 40, '1698': 151, '1726': 85, '1679': 77, '1750': 53, '1711': 70, '1810': 45, '1721': 133, '1831': 189, '1781': 206, '1818': 227, '1816': 343, '1783': 308, '1752': 80, '1866': 33, '1747': 58, '1771': 26, '1700': 81, '1682': 104, '1794': 55, '1742': 22, '1887': 40, '1836': 3, '1878': 76, '1873': 45, '1886': 45, '1702': 137, '1767': 15, '1709': 144, '1779': 197, '1751': 107, '1681': 97, '1748': 45, '1678': 9, '1839': 84, '1770': 27, '1673': 18, '1792': 44, '1796': 86, '1828': 169, '1736': 46, '1737': 55, '1696': 27, '1853': 89, '1772': 122, '1718': 90, '1776': 36, '1804': 121, '1774': 37, '1832': 289, '1806': 106, '1820': 244, '1854': 111, '1861': 58, '1833': 194, '1841': 44, '1695': 39, '1705': 75, '1872': 42, '1874': 46, '1782': 150, '1693': 26, '1808': 299, '1838': 10, '1797': 46, '1660': 1, '1870': 12, '1864': 53, '1744': 39, '1800': 107, '1655': 2, '1795': 55, '1840': 34, '1764': 24, '1763': 28, '1676': 8, '1768': 24, '1753': 36, '1842': 36, '1671': 13, '1801': 57, '1814': 11, '1756': 72, '1815': 45, '1749': 27, '1775': 30, '1745': 46, '1834': 11, '1769': 16, '1793': 45, '1665': 2, '1813': 12, '1635': 1, '1616': 1, '1791': 6, '1758': 20, '1631': 2, '1664': 5, '1789': 12, '1675': 8, '1677': 4, '1666': 6, '1663': 3, '1674': 1, '1668': 5, '1661': 1, '1628': 5, '1670': 3, '1633': 1, '1669': 2, '1636': 1, '1667': 1, '1630': 2, '1634': 1, '1656': 1, '1620': 1, '1622': 1, '1623': 2, '1625': 1, '1627': 2, '1790': 1, '1658': 1, '1650': 1, '1662': 1, '1632': 1}\n"
     ]
    }
   ],
   "source": [
    "counter_ano = {}\n",
    "\n",
    "for c in confessados:\n",
    "    ano = c['data'][:4]\n",
    "    \n",
    "    if ano not in counter_ano:\n",
    "        counter_ano[ano] = 0\n",
    "    counter_ano[ano] += 1\n",
    "\n",
    "print(counter_ano)"
   ]
  },
  {
   "attachments": {},
   "cell_type": "markdown",
   "metadata": {},
   "source": [
    "> b) Calcula a frequência de nomes próprios (o primeiro em cada nome) e apelidos (o ultimo em cada nome) por séculos e apresenta os 5 mais usados;"
   ]
  },
  {
   "cell_type": "code",
   "execution_count": 57,
   "metadata": {},
   "outputs": [
    {
     "name": "stdout",
     "output_type": "stream",
     "text": [
      "{19: {'primeiro': {'Aarao': 1, 'Abel': 4, 'Abelardo': 2, 'Abilio': 8, 'Acacio': 2, 'Adelino': 13, 'Adolfo': 3, 'Adriano': 6, 'Adriao': 1, 'Afonso': 1, 'Agostinho': 31, 'Aires': 1, 'Albano': 5, 'Albertino': 1, 'Alberto': 13, 'Albino': 20, 'Alexandre': 42, 'Alexandrino': 3, 'Alfredo': 12, 'Alvaro': 15, 'Amador': 1, 'Amaro': 4, 'Ambrosio': 2, 'Americo': 1, 'Amilcar': 1, 'Anacleto': 7, 'Anastacio': 6, 'Andre': 5, 'Angelo': 1, 'Anibal': 2, 'Aniceto': 2, 'Anselmo': 3, 'Antao': 2, 'Antonino': 2, 'Antonio': 1663, 'Armando': 1, 'Arnaldo': 2, 'Artur': 8, 'Ascencio': 1, 'Atanasio': 1, 'Augusto': 31, 'Aureliano': 1, 'Aurelio': 1, 'Avelino': 10, 'Balbino': 1, 'Baltazar': 12, 'Barnabe': 1, 'Bartolomeu': 3, 'Basilio': 4, 'Belchior': 2, 'Benedito': 1, 'Benigno': 2, 'Bento': 150, 'Bernardino': 50, 'Bernardo': 89, 'Boaventura': 9, 'Bonifacio': 1, 'Bras': 3, 'Caetano': 43, 'Calisto': 1, 'Camilo': 4, 'Candido': 12, 'Carlos': 30, 'Casimiro': 16, 'Celestino': 3, 'Cipriano': 8, 'Claudino': 6, 'Claudio': 3, 'Clemente': 9, 'Clementino': 4, 'Cleto': 4, 'Constantino': 22, 'Cosme': 4, 'Crisostomo': 1, 'Cristovao': 7, 'Custodio': 56, 'Damaso': 4, 'Damiao': 4, 'Daniel': 5, 'David': 3, 'Delfim': 3, 'Dinis': 2, 'Diogo': 16, 'Dionisio': 6, 'Domingos': 339, 'Duarte': 2, 'Eduardo': 6, 'Eleuterio': 1, 'Elias': 7, 'Emilio': 6, 'Ernesto': 1, 'Estevao': 8, 'Eurico': 1, 'Eusebio': 1, 'Evaristo': 2, 'Ezequiel': 1, 'Fabiao': 2, 'Faustino': 2, 'Feliciano': 6, 'Felicissimo': 3, 'Felisberto': 8, 'Felix': 10, 'Felizardo': 4, 'Fernando': 21, 'Filipe': 13, 'Firmino': 9, 'Flaviano': 2, 'Florencio': 2, 'Florentino': 1, 'Fortunato': 7, 'Fradique': 1, 'Francisco': 762, 'Frederico': 4, 'Frutuoso': 5, 'Gabriel': 22, 'Gaspar': 46, 'Geraldo': 2, 'Gerardo': 2, 'Germano': 5, 'Gervasio': 9, 'Gil': 1, 'Gomes': 1, 'Goncalo': 14, 'Gregorio': 5, 'Gualter': 1, 'Guilherme': 14, 'Heitor': 1, 'Heliodoro': 1, 'Henrique': 21, 'Hermano': 1, 'Hermenegildo': 1, 'Higinio': 1, 'Hilario': 2, 'Hipolito': 1, 'Ilidio': 1, 'Inacio': 28, 'Inocencio': 4, 'Isac': 1, 'Jacinto': 24, 'Jacome': 5, 'Januario': 10, 'Jeremias': 1, 'Jeronimo': 39, 'Joao': 1122, 'Joaquim': 457, 'Jose': 1883, 'Julio': 20, 'Justino': 10, 'Laurentino': 2, 'Leonardo': 17, 'Leonel': 4, 'Leopoldino': 1, 'Leopoldo': 1, 'Lino': 9, 'Lopo': 1, 'Lourenco': 15, 'Luciano': 1, 'Lucio': 1, 'Luis': 227, 'Manuel': 1348, 'Marcelino': 1, 'Marcos': 2, 'Martinho': 4, 'Mateus': 5, 'Matias': 6, 'Maximiano': 7, 'Maximino': 1, 'Miguel': 60, 'Narciso': 16, 'Nicolau': 4, 'Nuno': 3, 'Oscar': 1, 'Ovidio': 1, 'Patricio': 2, 'Paulino': 10, 'Paulo': 22, 'Pedro': 49, 'Placido': 7, 'Policarpo': 1, 'Polidoro': 1, 'Porfirio': 4, 'Quirino': 1, 'Rafael': 6, 'Raimundo': 6, 'Raul': 1, 'Remigio': 1, 'Ricardo': 9, 'Roberto': 3, 'Rodrigo': 28, 'Roque': 1, 'Rufino': 2, 'Salustiano': 1, 'Salvador': 8, 'Santos': 2, 'Sebastiao': 40, 'Secundino': 6, 'Serafim': 7, 'Severino': 6, 'Silverio': 5, 'Silvestre': 8, 'Silvino': 7, 'Simao': 17, 'Tadeu': 1, 'Teodoro': 1, 'Teodosio': 2, 'Teotonio': 8, 'Tiago': 1, 'Timoteo': 2, 'Tomas': 20, 'Tome': 4, 'Torcato': 1, 'Tristao': 3, 'Urbano': 3, 'Valentim': 4, 'Valeriano': 1, 'Valerio': 1, 'Vasco': 2, 'Venancio': 1, 'Venceslau': 4, 'Verissimo': 2, 'Vicente': 9, 'Vidal': 2, 'Vitorino': 14, 'Zacarias': 2, 'Zeferino': 6}, 'apelido': {'Silva': 396, 'Barroso': 51, 'Oliveira': 129, 'Freitas': 77, 'Carvalho': 248, 'Araujo': 244, 'Guerreiro': 27, 'Alves': 43, 'Arantes': 9, 'Santos': 98, 'Leite': 64, 'Guimaraes': 58, 'Borges': 29, 'Pereira': 385, 'Barbosa': 117, 'Matos': 47, 'Coelho': 80, 'Dias': 82, 'Ferreira': 193, 'Costa': 306, 'Eiras': 2, 'Almeida': 95, 'Campos': 49, 'Miranda': 52, 'Pedrosa': 6, 'Barros': 106, 'Sousa': 281, 'Meireles': 25, 'Vieira': 95, 'Vaz': 42, 'Goncalves': 174, 'Pinheiro': 54, 'Freire': 10, 'Soares': 72, 'Penteado': 2, 'Azevedo': 105, 'Mendes': 32, 'Botelho': 21, 'Sotomaior': 19, 'Rodrigues': 189, 'Alvares': 84, 'Antunes': 47, 'Domingues': 35, 'Fernandes': 141, 'Passos': 16, 'Cardoso': 61, 'Cunha': 158, 'Meneses': 57, 'Castro': 141, 'Neiva': 4, 'Coimbra': 3, 'Flores': 8, 'Basto': 12, 'Salgado': 17, 'Pedreira': 2, 'Chaves': 28, 'Monteiro': 59, 'Sepulveda': 7, 'Vasconcelos': 61, 'Afonso': 33, 'Brandao': 25, 'Ribeiro': 144, 'Brito': 56, 'Faria': 79, 'Novais': 22, 'Teixeira': 132, 'Marques': 42, 'Braganca': 5, 'Moreira': 38, 'Abreu': 88, 'Pequeno': 1, 'Pimentel': 15, 'Camelo': 7, 'Machado': 138, 'Rebelo': 50, 'Malheiro': 18, 'Sa': 37, 'Pinto': 85, 'Cruz': 64, 'Rainha': 1, 'Leituga': 1, 'Lobo': 49, 'Correia': 56, 'Tavares': 4, 'Pimenta': 21, 'Reis': 44, 'Lage': 8, 'Morais': 37, 'Moniz': 1, 'Nogueira': 28, 'Gama': 14, 'Nilo': 1, 'Gomes': 128, 'Lopes': 99, 'Saraiva': 5, 'Macedo': 67, 'Rocha': 81, 'Vasco': 2, 'Minhava': 1, 'Martins': 109, 'Nunes': 7, 'Barral': 1, 'Branco': 11, 'Junior': 62, 'Videira': 2, 'Pacheco': 16, 'Magalhaes': 97, 'Moura': 59, 'Mota': 51, 'Malhoto': 1, 'Lago': 13, 'Batista': 10, 'Calvao': 3, 'Fraga': 9, 'Guerra': 16, 'Lima': 134, 'Saganha': 1, 'Bacelar': 18, 'Coutinho': 52, 'Melo': 27, 'Torres': 34, 'Noronha': 1, 'Douteiro': 2, 'Linhares': 4, 'Lourenco': 15, 'Taveira': 10, 'Vilaca': 17, 'Figueiredo': 34, 'Calheiros': 10, 'Galvao': 14, 'Duarte': 39, 'Gaio': 3, 'Cerqueira': 27, 'Conde': 3, 'Noura': 1, 'Bezerra': 10, 'Salgueiro': 5, 'Amorim': 45, 'Jordao': 2, 'Senra': 2, 'Queiros': 19, 'Nobrega': 7, 'Albuquerque': 5, 'Negrao': 3, 'Arieiro': 1, 'Simoes': 14, 'Peixoto': 47, 'Pita': 2, 'Zamith': 7, 'Boas': 14, 'Loureiro': 15, 'Milheiro': 1, 'Carneiro': 46, 'Coreixas': 1, 'Amaral': 7, 'Fonseca': 14, 'Torre': 4, 'Ferraz': 11, 'Vinha': 1, 'Amaro': 4, 'Andrade': 28, 'Borlido': 11, 'Bras': 1, 'Cervos': 1, 'Maduro': 1, 'Parente': 2, 'Pedro': 1, 'Roda': 2, 'Rosa': 27, 'Seixas': 3, 'Bastos': 5, 'Viana': 14, 'Nobre': 1, 'Melim': 1, 'Alexandre': 1, 'Santarem': 3, 'Afonseca': 22, 'Conceicao': 5, 'Feijo': 2, 'Duraes': 10, 'Briteiros': 3, 'Tercas': 2, 'Puga': 8, 'Roseira': 1, 'Maia': 13, 'Rego': 19, 'Pires': 44, 'Raimundo': 1, 'Ramalho': 12, 'Lixa': 1, 'Ramos': 17, 'Adao': 6, 'Paio': 7, 'Temeroso': 2, 'Mosteiro': 1, 'Neves': 19, 'Vale': 40, 'Vilela': 20, 'Jaen': 1, 'Veiga': 17, 'Falcao': 9, 'Felix': 2, 'Caldas': 20, 'Saldanha': 1, 'Sampaio': 46, 'Cerimonias': 1, 'Cerquido': 1, 'Lemos': 33, 'Costado': 2, 'Couto': 26, 'Pias': 2, 'Antas': 5, 'Dantas': 17, 'Esteves': 45, 'Braga': 12, 'Mourao': 11, 'Forte': 5, 'Francisco': 7, 'Jacob': 1, 'Garcia': 2, 'Gondim': 4, 'Gaspar': 3, 'Ferro': 2, 'Mouta': 4, 'Ralha': 1, 'Sanches': 14, 'Rua': 4, 'Jorge': 7, 'Paco': 4, 'Leitao': 15, 'Pontizelas': 1, 'Barreira': 11, 'Barreiro': 6, 'Luis': 4, 'Caldeira': 2, 'Boucas': 1, 'Patrocinio': 2, 'Veloso': 24, 'Perre': 1, 'Navarro': 1, 'Seara': 2, 'Alho': 1, 'Candido': 1, 'Castinheiro': 1, 'Laguez': 1, 'Sequeiros': 9, 'Vilar': 2, 'Rosario': 2, 'Caridade': 2, 'Neto': 9, 'Lobato': 3, 'Torrinha': 1, 'Trigueiro': 1, 'Falances': 1, 'Casavedra': 1, 'Guedes': 15, 'Moutinho': 11, 'Petejo': 1, 'Silveira': 7, 'Babo': 1, 'Telhada': 1, 'Lageas': 1, 'Franco': 6, 'Sequeira': 4, 'Heleno': 2, 'Fortunato': 1, 'Marinho': 24, 'Murta': 3, 'Vitoria': 1, 'Santana': 1, 'Luz': 1, 'Caravana': 1, 'Beleza': 1, 'Cabecas': 1, 'Giesteira': 3, 'Ledo': 1, 'Palhares': 3, 'Arriscado': 2, 'Aguia': 1, 'Girao': 2, 'Gouveia': 9, 'Maciel': 14, 'Figueira': 3, 'Pontes': 8, 'Pessanha': 1, 'Lomba': 11, 'Portela': 9, 'Quinteiro': 2, 'Jacome': 7, 'Tilde': 1, 'Cordeiro': 7, 'Dinis': 5, 'Senhorinho': 1, 'Leonor': 1, 'Xavier': 5, 'Leao': 11, 'Trindade': 2, 'Bravo': 4, 'Maris': 1, 'Aguiar': 24, 'Canedo': 1, 'Lobarinhas': 4, 'Brochado': 8, 'Pojeira': 3, 'Mesquita': 20, 'Ramalhosa': 3, 'Medeiros': 9, 'Liberal': 3, 'Queiro': 2, 'Alencastro': 2, 'Carvalhais': 1, 'Barreiros': 5, 'Manso': 5, 'Moscoso': 2, 'Chouzal': 1, 'Santiago': 1, 'Cibrao': 1, 'Crestino': 1, 'Vassalo': 2, 'Ataide': 4, 'Novo': 1, 'Sarmento': 10, 'Pipa': 4, 'Vila': 1, 'Alvarenga': 5, 'Franca': 1, 'Tinoco': 15, 'Cabral': 7, 'Duro': 3, 'Velho': 2, 'Grandinho': 1, 'Gralho': 2, 'Rios': 2, 'Carmo': 2, 'Salazar': 2, 'Filipe': 2, 'Milagres': 1, 'Cortez': 1, 'Fontes': 8, 'Lara': 2, 'Fanha': 2, 'Cardeira': 2, 'Pedreiro': 1, 'Coura': 1, 'Calado': 1, 'Querido': 3, 'Bernardo': 3, 'Disse': 1, 'Veras': 4, 'Meleiro': 7, 'Levada': 2, 'Pinhao': 1, 'Granja': 1, 'Lacerda': 4, 'Carrelo': 2, 'Quintas': 1, 'Lira': 4, 'Fradique': 1, 'Porto': 1, 'Ochoa': 3, 'Eira': 3, 'Azambuja': 1, 'Enes': 3, 'Montenegro': 3, 'Aranha': 1, 'Barreto': 5, 'Lirio': 2, 'Morgado': 1, 'Teles': 10, 'Carvalhal': 1, 'Fontoura': 5, 'Mosqueira': 1, 'Mendonca': 4, 'Montalvao': 2, 'Varajao': 3, 'Boaventura': 2, 'Paredes': 3, 'Gabriel': 2, 'Baia': 2, 'Vessadas': 5, 'Vilasboas': 4, 'Magro': 2, 'Bouca': 1, 'Morim': 4, 'Bairro': 2, 'Fidalgo': 2, 'Serodio': 1, 'Terreiro': 1, 'Quintela': 2, 'Vargas': 2, 'Vicente': 5, 'Anadia': 1, 'Perdigao': 4, 'Prego': 1, 'Navalho': 1, 'Leiva': 3, 'Ribeira': 1, 'Leones': 2, 'Bernardes': 5, 'Portugal': 4, 'Barriga': 2, 'Podre': 1, 'Justiniano': 1, 'Galeao': 1, 'Jesus': 1, 'Castilho': 1, 'Canavarro': 3, 'Leal': 6, 'Roriz': 1, 'Laranjeira': 1, 'Osorio': 4, 'Queiroga': 4, 'Delgado': 4, 'Barbeita': 1, 'Marreiro': 1, 'Alvim': 3, 'Marta': 1, 'Amarante': 1, 'Magrico': 1, 'Goja': 1, 'Dourado': 1, 'Gil': 5, 'Carreira': 2, 'Capela': 5, 'Castanheirinho': 1, 'Meira': 7, 'Areal': 1, 'Beca': 1, 'Palhao': 2, 'Henriques': 2, 'Marinhas': 1, 'Renda': 1, 'Perestrelo': 1, 'Avelino': 1, 'Capelo': 2, 'Manga': 1, 'Varanda': 1, 'Palmeirao': 1, 'Relvas': 2, 'Ranhada': 1, 'Felgueiras': 8, 'Ribas': 3, 'Lameiras': 1, 'Argainha': 1, 'Ferros': 1, 'Borralheiro': 1, 'Ilhao': 1, 'Curto': 1, 'Fonte': 6, 'Pais': 2, 'Parola': 1, 'Pocas': 1, 'Marreco': 1, 'Caetano': 1, 'Garnier': 2, 'Sobral': 1, 'Mouteira': 1, 'Barge': 2, 'Loucao': 1, 'Vilarinho': 3, 'Amorosa': 3, 'Barroca': 2, 'Penso': 1, 'Nascimento': 5, 'Outeiro': 2, 'Feio': 1, 'Trocado': 1, 'Airosa': 1, 'Tapada': 2, 'Rio': 2, 'Cardona': 1, 'Belinho': 2, 'Vidinha': 1, 'Codesso': 3, 'Crasto': 2, 'Gaiolas': 1, 'Fontelas': 1, 'Maio': 1, 'Monte': 1, 'Rangel': 2, 'Bandeira': 2, 'Socorro': 1, 'Coutada': 1, 'Mariz': 3, 'Paulino': 2, 'Bessa': 1, 'Real': 1, 'Souto': 6, 'Aniceto': 2, 'Subida': 1, 'Mendanha': 1, 'Corucho': 1, 'Barbeitos': 1, 'Marraxo': 1, 'Vieito': 1, 'Patorro': 1, 'Roxo': 2, 'Salgueira': 1, 'Condessa': 1, 'Manuel': 1, 'Ayala': 1, 'Pupe': 1, 'Painho': 1, 'Boucos': 1, 'Cotas': 1, 'Balareiro': 1, 'Lino': 1, 'Santo': 2, 'Igreja': 1, 'Rato': 1, 'Marnoco': 1, 'Jardim': 1, 'Penha': 1, 'Coentrao': 1, 'Agonia': 1, 'Lapela': 1, 'Laranjo': 1, 'Viva': 2, 'Damiao': 1, 'Roma': 1, 'Sinal': 1, 'Brenha': 1, 'Segura': 1, 'Prazeres': 2, 'Cacais': 1, 'Lucas': 1, 'Luzio': 1, 'Marrocos': 1, 'Lobao': 1, 'Peres': 1, 'Poco': 1, 'Cerveira': 2, 'Laje': 1, 'Rocadas': 2, 'Torgo': 1, 'Fiuza': 2, 'Lages': 2, 'Gaviao': 2, 'Lancoes': 3, 'Gavaias': 2, 'Arezes': 1, 'Pedra': 2, 'Armada': 2, 'Adaes': 1, 'Esmeriz': 2, 'Aragao': 3, 'Polonia': 3, 'Cubal': 1, 'Belos': 1, 'Areias': 1, 'Bernardino': 1, 'Alcantara': 1, 'Lata': 1, 'Amado': 1, 'Alvelos': 2, 'Gigante': 3, 'Augusto': 1, 'Betencourt': 1, 'Garfejo': 1, 'Mateus': 1, 'Rubiao': 1, 'Citara': 1, 'Alpoim': 2, 'Gaioso': 1, 'Serro': 1, 'Fortes': 1, 'Gusmao': 2, 'Tojeira': 2, 'Duque': 1, 'Furtado': 3, 'Freixo': 1, 'Gandras': 1, 'Artilheiro': 1, 'Alvadia': 1, 'Fontela': 1, 'Gregorio': 2, 'Meireis': 1, 'Alonso': 1, 'Andre': 1, 'Covenco': 1, 'Costas': 1, 'Ramalheira': 1, 'Natividade': 2, 'Granjo': 1, 'Lebre': 1, 'Borja': 1, 'Codeceira': 1, 'Cancelinha': 1, 'Cancelo': 1, 'Marrucho': 1, 'Pereiro': 1, 'Rebordelo': 1, 'Sonhim': 1, 'Urzal': 1, 'Soeiro': 1, 'Murada': 1, 'Malafaia': 1, 'Viterbo': 2, 'Talina': 1, 'Pina': 1, 'Ascencao': 1, 'Calvinho': 1, 'Cortinhas': 1, 'Preza': 1, 'Madureira': 1, 'Doce': 1, 'Parga': 1, 'Penela': 1, 'Touca': 1, 'Ponte': 1, 'Rei': 1, 'Remildes': 1, 'Serra': 1, 'Pinho': 2, 'Cabo': 1, 'Migueis': 1, 'Direito': 1, 'Calcada': 1, 'Areia': 1, 'Bicho': 1, 'Cachico': 1, 'Cousso': 1, 'Junqueira': 2, 'Portugues': 1, 'Cancela': 1, 'Carrero': 1, 'Jose': 1, 'Cardida': 1, 'Valente': 1, 'Couros': 1, 'Fontinha': 1, 'Ana': 1, 'Figueiras': 1, 'Madeira': 1, 'Trigo': 1, 'Barca': 1, 'Fontainha': 1, 'Escovar': 1, 'Antao': 1, 'Trovisqueira': 1, 'Melro': 1, 'Mano': 1}}, 20: {'primeiro': {'Abel': 3, 'Abilio': 6, 'Adelino': 3, 'Adelio': 1, 'Adriano': 1, 'Adriao': 1, 'Afonso': 1, 'Albano': 2, 'Alberto': 6, 'Albino': 3, 'Alceu': 1, 'Alfredo': 8, 'Alvaro': 1, 'Amadeu': 1, 'Americo': 4, 'Anibal': 2, 'Anselmo': 1, 'Antonio': 87, 'Aprigio': 1, 'Armando': 1, 'Armindo': 1, 'Arnaldo': 4, 'Artur': 1, 'Augusto': 5, 'Aureliano': 2, 'Aurelio': 1, 'Avelino': 2, 'Benjamim': 1, 'Bento': 2, 'Bernardino': 3, 'Bernardo': 2, 'Boaventura': 2, 'Bruno': 1, 'Candido': 2, 'Carlos': 4, 'Casimiro': 1, 'Celestino': 3, 'Clemente': 2, 'Dionisio': 1, 'Domingos': 9, 'Eduardo': 1, 'Ernesto': 2, 'Eugenio': 1, 'Evaristo': 1, 'Felisberto': 1, 'Fernando': 4, 'Filipe': 1, 'Firmino': 1, 'Francisco': 14, 'Goncalo': 1, 'Guilherme': 3, 'Inacio': 1, 'Ismael': 1, 'Jaime': 2, 'Jeremias': 1, 'Jeronimo': 4, 'Joao': 29, 'Joaquim': 15, 'Jose': 67, 'Julio': 1, 'Leonel': 1, 'Lino': 2, 'Lucio': 1, 'Luis': 9, 'Maker': 1, 'Manuel': 71, 'Mario': 2, 'Miguel': 3, 'Patricio': 1, 'Paulino': 1, 'Paulo': 3, 'Porfirio': 1, 'Rafael': 1, 'Reinaldo': 1, 'Sebastiao': 4, 'Severino': 1, 'Virgilio': 1, 'Zeferino': 1}, 'apelido': {'Reis': 4, 'Pereira': 14, 'Guimaraes': 8, 'Galvao': 2, 'Correia': 3, 'Imperadeiro': 1, 'Araujo': 8, 'Ferreira': 10, 'Dias': 5, 'Leite': 4, 'Pires': 3, 'Silva': 21, 'Marques': 8, 'Saraiva': 1, 'Figueiredo': 5, 'Vilela': 1, 'Castro': 3, 'Capela': 3, 'Marinho': 2, 'Rodrigues': 9, 'Azevedo': 7, 'Leal': 1, 'Cardoso': 2, 'Machado': 5, 'Moura': 1, 'Barbosa': 7, 'Sousa': 11, 'Teixeira': 2, 'Nogueira': 2, 'Barros': 2, 'Bastos': 1, 'Mesquita': 2, 'Lira': 1, 'Santil': 1, 'Fernandes': 7, 'Pinto': 6, 'Costa': 14, 'Rego': 3, 'Guerra': 3, 'Tercas': 1, 'Mendes': 1, 'Carneiro': 3, 'Martins': 6, 'Salgado': 1, 'Monteiro': 4, 'Oliveira': 15, 'Lima': 3, 'Parente': 3, 'Malheiro': 1, 'Miranda': 2, 'Lopes': 3, 'Matias': 1, 'Pedras': 1, 'Novo': 1, 'Ribeiro': 10, 'Flores': 1, 'Freitas': 4, 'Branco': 3, 'Saavedra': 1, 'Franqueira': 1, 'Torre': 1, 'Junior': 10, 'Rocha': 4, 'Almeida': 4, 'Carvalho': 4, 'Vieira': 5, 'Abreu': 3, 'Fontes': 3, 'Ramos': 2, 'Amorim': 2, 'Velho': 1, 'Goncalves': 7, 'Maciel': 1, 'Palhares': 1, 'Soares': 4, 'Cotrim': 1, 'Gomes': 9, 'Lomba': 1, 'Santos': 3, 'Cerqueira': 1, 'Ferros': 1, 'Tavares': 2, 'Falcao': 1, 'Domingues': 1, 'Moreira': 1, 'Campos': 3, 'Alves': 1, 'Barbeitos': 1, 'Faria': 3, 'Andrade': 2, 'Pinho': 1, 'Cunha': 5, 'Feio': 1, 'Lacerda': 1, 'Furtado': 1, 'Barroso': 3, 'Ferro': 1, 'Pina': 1, 'Teles': 1, 'Pinheiro': 5, 'Brandao': 2, 'Coelho': 3, 'Matos': 1, 'Carreiras': 1, 'Pacheco': 1, 'Leitao': 1, 'Sampaio': 1, 'Insuelas': 1, 'Pedrosa': 1, 'Forte': 1, 'Macedo': 2, 'Antunes': 1, 'Caldas': 2, 'Bourbon': 1, 'Franco': 1, 'Lago': 1, 'Lemos': 1, 'Sa': 4, 'Loureiro': 1, 'Torres': 1, 'Sanches': 1, 'Barria': 1, 'Cruz': 1, 'Costinha': 1, 'Carqueijo': 1, 'Afonso': 3, 'Fraga': 1, 'Novais': 1, 'Fontelo': 1, 'Serro': 1, 'Braga': 2, 'Calheiros': 1, 'Peixoto': 2, 'Maia': 1, 'Veloso': 2, 'Rebelo': 2, 'Brito': 1, 'Melo': 1, 'Nascimento': 1, 'Pedra': 1, 'Luis': 1, 'Sernache': 1, 'Couto': 2, 'Alaio': 1, 'Basto': 1, 'Pego': 1, 'Portela': 2, 'Cerejeira': 1, 'Laranjo': 1, 'Batista': 1, 'Regadas': 1, 'Mosquera': 1, 'Cepa': 1, 'Neves': 1, 'Bouca': 2, 'Braganca': 1, 'Rosa': 1, 'Roque': 1, 'Sequeiros': 1, 'Fonseca': 1}}, 18: {'primeiro': {'Acacio': 1, 'Adao': 3, 'Adriano': 5, 'Adriao': 3, 'Afonso': 14, 'Agostinho': 65, 'Alberto': 2, 'Albino': 1, 'Aleixo': 4, 'Alexandre': 98, 'Alvaro': 4, 'Amador': 1, 'Amaro': 21, 'Ambrosio': 6, 'Anacleto': 5, 'Anastacio': 4, 'Andre': 64, 'Angelo': 1, 'Anselmo': 2, 'Antonio': 1983, 'Ascencio': 1, 'Atanasio': 4, 'Atenodoro': 1, 'Aurelio': 1, 'Baltazar': 60, 'Barnabe': 2, 'Bartolomeu': 23, 'Basilio': 1, 'Batista': 3, 'Belchior': 25, 'Bento': 339, 'Bernardino': 29, 'Bernardo': 210, 'Boaventura': 23, 'Bras': 17, 'Bruno': 4, 'Caetano': 97, 'Calisto': 2, 'Carlos': 30, 'Casimiro': 1, 'Cipriano': 14, 'Claudio': 2, 'Clemente': 5, 'Cleto': 3, 'Constantino': 46, 'Cosme': 8, 'Cribonio': 1, 'Crisostomo': 3, 'Crispim': 2, 'Cristovao': 18, 'Custodio': 198, 'Damaso': 10, 'Damiao': 11, 'Daniel': 2, 'David': 4, 'Dinis': 1, 'Diogo': 90, 'Dionisio': 18, 'Domingos': 611, 'Duarte': 14, 'Egas': 2, 'Elias': 2, 'Estacio': 1, 'Estanislau': 2, 'Estevao': 20, 'Eugenio': 2, 'Eusebio': 14, 'Fabiao': 7, 'Faustino': 12, 'Feliciano': 16, 'Felisberto': 1, 'Felix': 52, 'Felizardo': 1, 'Fernando': 53, 'Filipe': 27, 'Fradique': 3, 'Francisco': 1491, 'Frutuoso': 13, 'Gabriel': 49, 'Gaspar': 67, 'Gaudencio': 1, 'Geraldo': 4, 'Gerardo': 1, 'Germao': 3, 'Gervasio': 23, 'Goncalo': 80, 'Gregorio': 31, 'Gualter': 6, 'Guilherme': 2, 'Heitor': 2, 'Heliodoro': 1, 'Henrique': 26, 'Hermenegildo': 1, 'Hilario': 1, 'Hipolito': 7, 'Inacio': 79, 'Inocencio': 3, 'Isidorio': 1, 'Isidoro': 6, 'Jacinto': 50, 'Jacob': 1, 'Jacome': 12, 'Jaime': 2, 'Jaimes': 1, 'Januario': 8, 'Jeronimo': 163, 'Joao': 2009, 'Joaquim': 171, 'Jorge': 7, 'Jose': 1892, 'Juliao': 3, 'Justino': 2, 'Lazaro': 3, 'Leandro': 13, 'Leao': 2, 'Leonardo': 22, 'Leonel': 10, 'Leopoldo': 2, 'Lino': 4, 'Lizardo': 2, 'Lopo': 5, 'Lourenco': 68, 'Lucas': 9, 'Luciano': 2, 'Luis': 495, 'Mamede': 1, 'Manuel': 2643, 'Marcal': 1, 'Marcelino': 4, 'Marcelo': 2, 'Marcos': 17, 'Martim': 4, 'Martinho': 25, 'Mateus': 18, 'Matias': 50, 'Mauricio': 6, 'Maximo': 2, 'Miguel': 152, 'Narciso': 20, 'Nicolau': 23, 'Nuno': 5, 'Paio': 3, 'Pantaleao': 5, 'Pascoal': 14, 'Patricio': 3, 'Paulino': 2, 'Paulo': 98, 'Pedro': 269, 'Placido': 9, 'Possidonio': 2, 'Rafael': 15, 'Raimundo': 3, 'Remigio': 1, 'Ricardo': 8, 'Roberto': 3, 'Rodrigo': 26, 'Roque': 12, 'Rosendo': 1, 'Salvador': 13, 'Santos': 9, 'Sebastiao': 104, 'Serafim': 7, 'Serafino': 2, 'Silverio': 3, 'Silvestre': 41, 'Simao': 53, 'Simeao': 2, 'Tadeu': 4, 'Teobaldo': 1, 'Teodoro': 1, 'Teodosio': 14, 'Teotonio': 15, 'Timoteo': 1, 'Tomas': 38, 'Tome': 17, 'Torcato': 7, 'Urbano': 2, 'Valentim': 11, 'Valentino': 1, 'Valeriano': 1, 'Valerio': 2, 'Vasco': 7, 'Venancio': 1, 'Ventura': 8, 'Verissimo': 21, 'Vicente': 56, 'Vitor': 1, 'Vitoriano': 3, 'Xavier': 2, 'Zeferino': 2}, 'apelido': {'Carvalho': 614, 'Azevedo': 243, 'Vale': 84, 'Xavier': 4, 'Alvim': 13, 'Araujo': 472, 'Costa': 561, 'Pereira': 702, 'Abreu': 185, 'Caminha': 1, 'Peixoto': 72, 'Afonseca': 76, 'Barros': 181, 'Zuniga': 1, 'Leite': 84, 'Mendonca': 29, 'Sotomaior': 94, 'Pinto': 187, 'Soares': 115, 'Nogueira': 28, 'Silva': 708, 'Bezerra': 8, 'Castro': 214, 'Freitas': 69, 'Lobo': 83, 'Oliveira': 207, 'Magalhaes': 171, 'Cabecas': 8, 'Barbosa': 204, 'Dias': 75, 'Figueiredo': 42, 'Cunha': 269, 'Barroso': 49, 'Alvares': 173, 'Dantas': 64, 'Goncalves': 111, 'Melo': 80, 'Vieira': 139, 'Ferreira': 281, 'Calheiros': 22, 'Eiro': 2, 'Pimenta': 27, 'Marques': 52, 'Ramos': 33, 'Ribeiro': 273, 'Leao': 22, 'Ventura': 3, 'Mendes': 75, 'Reis': 45, 'Brandao': 60, 'Cardoso': 69, 'Sousa': 445, 'Vasconcelos': 109, 'Coelho': 170, 'Real': 4, 'Passos': 24, 'Queiroga': 17, 'Rocha': 158, 'Antas': 5, 'Lima': 226, 'Aguiar': 42, 'Maciel': 35, 'Brito': 91, 'Cabral': 27, 'Gomes': 127, 'Miranda': 91, 'Boas': 38, 'Leitao': 45, 'Nobrega': 4, 'Rodrigues': 150, 'Ales': 1, 'Carneiro': 103, 'Bacelar': 53, 'Mota': 72, 'Sa': 96, 'Botelho': 31, 'Rego': 69, 'Falcao': 25, 'Velasco': 1, 'Aguia': 5, 'Paiva': 8, 'Couto': 45, 'Gondim': 19, 'Marinho': 58, 'Drago': 2, 'Rebelo': 81, 'Morais': 60, 'Leiva': 5, 'Faria': 167, 'Lopes': 94, 'Morim': 9, 'Guerreiro': 15, 'Chaves': 25, 'Saraiva': 1, 'Bernardes': 18, 'Batista': 10, 'Lage': 15, 'Torres': 52, 'Queiros': 54, 'Galeao': 3, 'Teixeira': 179, 'Pires': 29, 'Machado': 190, 'Meneses': 74, 'Berredo': 1, 'Manuel': 7, 'Coutinho': 63, 'Mogueimes': 11, 'Neiva': 13, 'Margulhao': 1, 'Alvao': 2, 'Bandeira': 13, 'Correia': 97, 'Crasto': 8, 'Moura': 67, 'Dinis': 6, 'Doia': 3, 'Felgueira': 3, 'Laje': 1, 'Lama': 1, 'Lobarinhos': 1, 'Martins': 81, 'Monteiro': 100, 'Moreira': 56, 'Peneda': 1, 'Portela': 11, 'Puga': 11, 'Rubiao': 5, 'Braganca': 5, 'Veiga': 19, 'Freire': 18, 'Pacheco': 45, 'Penha': 8, 'Lemos': 45, 'Cruz': 82, 'Jacome': 19, 'Cerqueira': 74, 'Lobato': 26, 'Sarmento': 17, 'Velho': 36, 'Nunes': 20, 'Almeida': 95, 'Gois': 5, 'Guimaraes': 47, 'Galvao': 6, 'Novais': 23, 'Pona': 1, 'Gama': 13, 'Andrade': 86, 'Guerra': 16, 'Mesquita': 51, 'Camelo': 21, 'Lira': 6, 'Leal': 13, 'Amorim': 50, 'Picado': 2, 'Vilaca': 23, 'Lago': 43, 'Simoes': 18, 'Aragao': 1, 'Filipe': 1, 'Fontoura': 13, 'Gil': 5, 'Barreto': 42, 'Amaral': 21, 'Antunes': 42, 'Pedrosa': 11, 'Sampaio': 68, 'Feijo': 4, 'Macedo': 85, 'Mourao': 46, 'Peres': 3, 'Vaz': 21, 'Filgueira': 14, 'Paredes': 4, 'Taveira': 17, 'Pedra': 6, 'Pimentel': 21, 'Cassao': 2, 'Cordeiro': 12, 'Vivas': 6, 'Matos': 73, 'Lobarinhas': 13, 'Ribeira': 4, 'Canedo': 2, 'Lomba': 19, 'Pinheiro': 54, 'Caldas': 43, 'Duarte': 35, 'Fraga': 15, 'Pessos': 1, 'Salgado': 41, 'Barreiros': 10, 'Sequeiros': 5, 'Ferraz': 24, 'Meireles': 20, 'Caridade': 5, 'Fonseca': 22, 'Leiras': 4, 'Meira': 4, 'Silveira': 26, 'Vilela': 22, 'Poco': 3, 'Besteiro': 4, 'Fernandes': 73, 'Roxo': 1, 'Veloso': 41, 'Castanheira': 1, 'Dourado': 3, 'Fontes': 10, 'Imperadeiro': 1, 'Malheiro': 34, 'Perdigao': 3, 'Santos': 121, 'Seixas': 28, 'Sequeira': 15, 'Torrao': 3, 'Vicente': 2, 'Nobre': 4, 'Esteves': 25, 'Afonso': 22, 'Quaresma': 1, 'Godinho': 4, 'Flores': 5, 'Silvares': 1, 'Delgado': 10, 'Alves': 12, 'Aral': 5, 'Aranha': 14, 'Camisao': 4, 'Ascencao': 1, 'Berardo': 1, 'Borges': 37, 'Campos': 49, 'Carmo': 4, 'Bessa': 4, 'Costado': 1, 'Domingues': 21, 'Fonte': 4, 'Francisco': 5, 'Franco': 9, 'Garcia': 13, 'Geraldes': 1, 'Marinhas': 1, 'Luciano': 1, 'Luis': 13, 'Madureira': 1, 'Osorio': 12, 'Senteno': 2, 'Neto': 11, 'Paz': 5, 'Bento': 2, 'Presigo': 3, 'Teodoreto': 1, 'Paio': 23, 'Seara': 3, 'Souto': 12, 'Gouveia': 6, 'Palhao': 1, 'Carmona': 10, 'Noronha': 11, 'Antonio': 6, 'Barreira': 6, 'Bravo': 14, 'Cibrao': 4, 'Paulo': 1, 'Lages': 3, 'Basto': 11, 'Rates': 1, 'Pita': 19, 'Beca': 4, 'Portugal': 7, 'Romao': 1, 'Geaes': 1, 'Aguiao': 1, 'Adao': 17, 'Veras': 12, 'Lousada': 3, 'Beleza': 3, 'Cirne': 4, 'Branco': 16, 'Portilho': 2, 'Figueiro': 1, 'Maia': 30, 'Capela': 4, 'Espinhel': 1, 'Eca': 15, 'Gaio': 10, 'Tarefa': 1, 'Viegas': 5, 'Faiao': 3, 'Zenha': 4, 'Fagundes': 7, 'Ramalho': 19, 'Felgueiras': 5, 'Manrique': 1, 'Rubim': 3, 'Duraes': 8, 'Lara': 2, 'Bouca': 1, 'Jose': 7, 'Travassos': 1, 'Rosa': 15, 'Campelina': 2, 'Fiuza': 16, 'Durao': 1, 'Palha': 1, 'Canavarro': 1, 'Rangel': 3, 'Viana': 5, 'Moutinho': 12, 'Quintela': 4, 'Gralho': 3, 'Pina': 5, 'Fragoso': 1, 'Camara': 2, 'Loureiro': 28, 'Trigueiro': 3, 'Raposo': 1, 'Reimao': 3, 'Parente': 3, 'Carvalhais': 6, 'Lacerda': 11, 'Vogado': 2, 'Jorge': 3, 'Santissimo': 1, 'Cogominho': 1, 'Vilasboas': 15, 'Rua': 6, 'Guedes': 29, 'Fajardo': 5, 'Graca': 9, 'Lancoes': 4, 'Baia': 4, 'Moscoso': 2, 'Faia': 4, 'Tinoco': 16, 'Palmeira': 3, 'Truao': 3, 'Madris': 1, 'Melgaco': 2, 'Torre': 4, 'Aires': 2, 'Alvelos': 3, 'Luz': 3, 'Fortuna': 1, 'Murta': 5, 'Teles': 11, 'Bamba': 1, 'Lourenco': 13, 'Beliago': 1, 'Castelao': 2, 'Tavares': 5, 'Prego': 4, 'Montalvao': 2, 'Nis': 2, 'Ponte': 6, 'Cerveira': 8, 'Sanches': 11, 'Tavora': 14, 'Feris': 1, 'Belo': 3, 'Pilar': 4, 'Sabina': 1, 'Caveira': 1, 'Rosario': 2, 'Proenca': 2, 'Barreiro': 1, 'Goios': 3, 'Coura': 2, 'Marrucho': 1, 'Monte': 5, 'Medeiros': 6, 'Calvos': 1, 'Nicos': 1, 'Garrido': 1, 'Padrao': 6, 'Barbeito': 1, 'Loborao': 5, 'Almada': 4, 'Meleiro': 4, 'Carreiro': 1, 'Garces': 1, 'Querido': 2, 'Covas': 1, 'Bacelos': 1, 'Ramalhosa': 1, 'Lucas': 1, 'Henriques': 2, 'Carreira': 1, 'Lucena': 1, 'Saldanha': 7, 'Pias': 2, 'Levado': 1, 'Cortez': 1, 'Piedade': 1, 'Varela': 3, 'Pugas': 1, 'Laranjo': 1, 'Calvo': 2, 'Jardim': 1, 'Mamede': 1, 'Tapado': 1, 'Trigo': 4, 'Roteia': 1, 'Moniz': 2, 'Clemente': 3, 'Fonteita': 2, 'Albuquerque': 2, 'Feital': 3, 'Braga': 9, 'Oleiro': 1, 'Sobrinho': 8, 'Joao': 1, 'Padroso': 1, 'Socorro': 2, 'Prada': 1, 'Valadares': 5, 'Cota': 15, 'Canas': 1, 'Miguel': 4, 'Pacanha': 1, 'Grilo': 2, 'Arantes': 9, 'Franca': 4, 'Mexia': 4, 'Losada': 3, 'Pizarro': 4, 'Teive': 3, 'Maria': 2, 'Palhares': 3, 'Pequeno': 3, 'Folgueira': 1, 'Perestrelo': 2, 'Enes': 3, 'Bairro': 1, 'Pacos': 2, 'Vilar': 4, 'Filgueiras': 2, 'Lameira': 1, 'Maltez': 1, 'Outeiro': 2, 'Figueiroa': 12, 'Bernardino': 2, 'Alegre': 2, 'Navais': 1, 'Neves': 12, 'Pontes': 4, 'Migueis': 4, 'Roda': 2, 'Tenda': 1, 'Quinta': 1, 'Bouro': 3, 'Sales': 1, 'Forte': 1, 'Joaquim': 1, 'Vargas': 3, 'Gondar': 1, 'Naio': 1, 'Pais': 8, 'Leones': 4, 'Calvao': 3, 'Napoles': 3, 'Minado': 1, 'Laranjeira': 1, 'Maris': 1, 'Espinheira': 1, 'Vilarinho': 9, 'Barbara': 1, 'Sepulveda': 5, 'Ceia': 1, 'Santiago': 2, 'Campelo': 2, 'Goia': 1, 'Azeredo': 1, 'Crespo': 4, 'Claro': 1, 'Conceicao': 5, 'Laborao': 2, 'Taborda': 2, 'Picarro': 1, 'Mascarenhas': 3, 'Mainarte': 1, 'Codesso': 9, 'Torgo': 1, 'Escovar': 1, 'Benevides': 3, 'Couracas': 1, 'Botao': 5, 'Ferro': 2, 'Prazeres': 1, 'Moledo': 1, 'Ribas': 1, 'Medela': 6, 'Lagos': 1, 'Lisboa': 2, 'Linhares': 4, 'Marrao': 1, 'Capelo': 1, 'Dionisio': 1, 'Madeira': 4, 'Babo': 4, 'Brochado': 10, 'Tome': 1, 'Corisco': 2, 'Duro': 1, 'Rubio': 1, 'Magro': 3, 'Espinhosa': 1, 'Tabarca': 1, 'Mano': 1, 'Regada': 1, 'Magar': 1, 'Valinho': 1, 'Penela': 2, 'Picao': 1, 'Cansado': 1, 'Painho': 1, 'Mendanha': 1, 'Temeroso': 2, 'Gentil': 1, 'Eira': 3, 'Serpe': 1, 'Espinosa': 2, 'Homem': 3, 'Porbem': 1, 'Saninha': 1, 'Passo': 1, 'Pato': 1, 'Ataide': 3, 'Novo': 1, 'Pessanha': 1, 'Senra': 1, 'Encarnacao': 1, 'Calhau': 1, 'Bicho': 1, 'Loucao': 2, 'Vilalobos': 1, 'Alcoforado': 3, 'Vessadas': 1, 'Coentrao': 1, 'Leiraz': 1, 'Bulhoes': 2, 'Magrico': 1, 'Visa': 1, 'Lobao': 1, 'Abo': 1, 'Nisa': 1, 'Eirado': 1, 'Cubal': 1, 'Fumo': 2, 'Gaspar': 2, 'Broeiro': 1, 'Pipa': 3, 'Ervedosa': 1, 'Farinha': 1, 'Antao': 2, 'Paco': 1, 'Cavaleiro': 1, 'Viso': 1, 'Murca': 1, 'Varajao': 2, 'Rosado': 1, 'Cam': 1, 'Alpoim': 4, 'Amado': 1, 'Chumbo': 1, 'Pessoa': 3, 'Jales': 2, 'Petis': 2, 'Coimbra': 5, 'Peito': 1, 'Giesteira': 1, 'Lapa': 1, 'Mondim': 1, 'Pedreira': 2, 'Boto': 1, 'Bossion': 1, 'Rasco': 1, 'Lanhas': 3, 'Lata': 1, 'Cortinhal': 1, 'Clara': 1, 'Rios': 1, 'Ayala': 1, 'Santarem': 1, 'Vilhena': 1, 'Ticao': 2, 'Furtado': 1, 'Gaviao': 3, 'Paraiso': 1, 'Escaleira': 1, 'Gaioso': 1, 'Serra': 2, 'Faial': 1, 'Luna': 3, 'Carvalhido': 1, 'Lamas': 1, 'Melim': 1, 'Cardona': 1, 'Lombo': 1, 'Penteado': 1, 'Vige': 1, 'Moses': 1, 'Prassa': 1, 'Barroco': 2, 'Elias': 1, 'Marrocos': 2, 'Mouta': 2, 'Fialho': 4, 'Arao': 1, 'Feio': 2, 'Roso': 1, 'Pinho': 1, 'Aneiros': 1, 'Covelo': 1, 'Bonito': 1, 'Mos': 1, 'Soeiro': 1, 'Azurar': 1, 'Campo': 1, 'Salgueiro': 2, 'Varziela': 1, 'Barzia': 1, 'Mole': 1, 'Cabo': 1, 'Junqueira': 1, 'Corte': 1, 'Eiras': 1, 'Facas': 1, 'Pena': 2, 'Rebordelo': 1, 'Saleiro': 1, 'Vasco': 1, 'Baiao': 1, 'Lanhoso': 1, 'Montenegro': 2, 'Bernardo': 2, 'Conde': 2, 'Alvarenga': 1, 'Mariz': 2, 'Aparecida': 1, 'Pedroso': 2, 'Prestes': 1, 'Regalo': 1, 'Anjo': 1, 'Negreiros': 1, 'Petejo': 1, 'Pepino': 1, 'Jesus': 3, 'Borlento': 1, 'Gramoso': 1, 'Gaia': 1, 'Rio': 1, 'Soutinho': 1, 'Cardote': 2, 'Videira': 1, 'Capam': 1, 'Limao': 1, 'Paris': 1, 'Facanha': 1, 'Catarina': 1, 'Caetano': 1, 'Bangeiro': 1, 'Lizes': 1, 'Couceiro': 1, 'Roque': 1, 'Maduro': 2, 'Hipolito': 1, 'Gamboa': 1, 'Nascimento': 1, 'Amarante': 1, 'Garnel': 1, 'Rola': 2, 'Cerdal': 1, 'Cravo': 1, 'Ricalde': 2, 'Ana': 2, 'Couras': 1, 'Vassalo': 1, 'Valenca': 1, 'Assuncao': 1, 'Samora': 1, 'Negrao': 1}}, 17: {'primeiro': {'Adriano': 1, 'Afonso': 7, 'Agostinho': 10, 'Aires': 2, 'Aleixo': 1, 'Alexandre': 16, 'Alvaro': 2, 'Amador': 1, 'Amaro': 5, 'Ambrosio': 1, 'Americo': 1, 'Anastacio': 1, 'Andre': 13, 'Antonio': 215, 'Arcanjo': 1, 'Baltazar': 9, 'Bartolomeu': 2, 'Basilio': 1, 'Batista': 1, 'Belchior': 11, 'Bento': 37, 'Bernardino': 3, 'Bernardo': 10, 'Bras': 5, 'Caetano': 1, 'Calisto': 1, 'Carlos': 5, 'Cipriano': 2, 'Claudio': 1, 'Clemente': 1, 'Constantino': 5, 'Cosme': 5, 'Crispiano': 1, 'Cristovao': 14, 'Custodio': 5, 'Damaso': 2, 'Damiao': 3, 'David': 3, 'Diogo': 23, 'Dionisio': 6, 'Domingos': 69, 'Duarte': 2, 'Estevao': 1, 'Feliciano': 3, 'Felix': 4, 'Fernando': 10, 'Fernao': 1, 'Filipe': 5, 'Fradique': 4, 'Francisco': 164, 'Frutuoso': 9, 'Gabriel': 6, 'Gaspar': 27, 'Geraldo': 4, 'Gervasio': 2, 'Gil': 1, 'Goncalo': 10, 'Gregorio': 5, 'Guilherme': 2, 'Heitor': 2, 'Henrique': 1, 'Hizinio': 1, 'Inacio': 13, 'Isidoro': 1, 'Jacinto': 12, 'Jacob': 1, 'Jacome': 3, 'Jeronimo': 21, 'Joao': 209, 'Joaquim': 3, 'Jorge': 4, 'Jose': 65, 'Leandro': 4, 'Leao': 1, 'Leonardo': 5, 'Leonel': 5, 'Lopo': 2, 'Lourenco': 7, 'Lucas': 6, 'Luis': 37, 'Manuel': 234, 'Marcos': 4, 'Martim': 3, 'Martinho': 5, 'Mateus': 5, 'Matias': 10, 'Miguel': 28, 'Nicolau': 1, 'Pantaleao': 1, 'Pascoal': 10, 'Patricio': 1, 'Paulo': 18, 'Pedro': 59, 'Placido': 2, 'Rafael': 3, 'Rodrigo': 1, 'Roque': 1, 'Salvador': 5, 'Santos': 3, 'Sebastiao': 17, 'Sencio': 1, 'Serafim': 1, 'Silvestre': 1, 'Simao': 12, 'Simeao': 2, 'Teodosio': 1, 'Teofilo': 1, 'Teotonio': 2, 'Tomas': 9, 'Tome': 15, 'Torcato': 2, 'Tristao': 2, 'Urbano': 1, 'Valentim': 3, 'Vasco': 1, 'Ventura': 1, 'Verissimo': 4, 'Vicente': 2, 'Xisto': 1}, 'apelido': {'Lima': 46, 'Costa': 52, 'Lobato': 6, 'Sousa': 34, 'Castro': 31, 'Meneses': 15, 'Carrilho': 1, 'Tinoco': 5, 'Lacerda': 6, 'Sotomaior': 13, 'Novais': 3, 'Silva': 68, 'Baia': 4, 'Serveira': 1, 'Coelho': 16, 'Abreu': 22, 'Pita': 6, 'Brandao': 10, 'Almeida': 13, 'Nogueira': 1, 'Carvalho': 44, 'Lageira': 1, 'Veloso': 4, 'Vale': 7, 'Noronha': 3, 'Sampaio': 9, 'Tavora': 7, 'Pereira': 54, 'Botao': 2, 'Maciel': 9, 'Barbosa': 30, 'Homem': 3, 'Araujo': 54, 'Figueiredo': 10, 'Cotrim': 1, 'Freire': 5, 'Azevedo': 38, 'Magalhaes': 18, 'Geraldes': 1, 'Souto': 1, 'Borges': 5, 'Cunha': 33, 'Pires': 1, 'Rego': 5, 'Monteiro': 4, 'Nobrega': 4, 'Pimenta': 3, 'Reis': 2, 'Vieira': 16, 'Moreira': 9, 'Matos': 7, 'Gama': 2, 'Barros': 23, 'Fagundes': 3, 'Fiuza': 3, 'Oliveira': 23, 'Gaviao': 2, 'Bessa': 4, 'Lopes': 2, 'Sa': 8, 'Lousada': 1, 'Mesquita': 8, 'Pinto': 23, 'Picarro': 1, 'Gaio': 2, 'Faria': 20, 'Leite': 11, 'Aranha': 12, 'Fontoura': 2, 'Maio': 2, 'Camelo': 3, 'Botelho': 8, 'Machado': 13, 'Bacelar': 3, 'Farroma': 1, 'Neto': 1, 'Falcao': 8, 'Maia': 3, 'Valbom': 1, 'Afonseca': 10, 'Correia': 17, 'Ribeiro': 28, 'Cardoso': 3, 'Mota': 3, 'Teixeira': 16, 'Ticao': 1, 'Peixoto': 9, 'Arrochela': 1, 'Barreto': 6, 'Almada': 3, 'Moura': 4, 'Bandeira': 5, 'Andrade': 9, 'Carmona': 2, 'Soares': 15, 'Ferraz': 2, 'Mendes': 2, 'Melo': 8, 'Bravo': 5, 'Campos': 3, 'Guimaraes': 3, 'Puga': 2, 'Pimentel': 4, 'Ferreira': 22, 'Miranda': 7, 'Amaral': 3, 'Fonseca': 4, 'Marinho': 5, 'Lago': 13, 'Vasconcelos': 12, 'Babo': 2, 'Coutinho': 7, 'Mascarenhas': 1, 'Meireles': 3, 'Macedo': 14, 'Cerqueira': 7, 'Gois': 1, 'Gondim': 1, 'Picao': 1, 'Teles': 4, 'Vivas': 1, 'Alcoforado': 1, 'Lobo': 8, 'Braganca': 2, 'Lemos': 5, 'Lancoes': 4, 'Carneiro': 10, 'Cruz': 15, 'Pedrosa': 3, 'Boas': 15, 'Sanhudo': 1, 'Leao': 5, 'Mariz': 1, 'Gouveia': 3, 'Amorim': 4, 'Trancoso': 1, 'Crespo': 1, 'Pedreira': 1, 'Brito': 11, 'Sanches': 1, 'Rocha': 18, 'Cabecas': 2, 'Torres': 2, 'Rebelo': 5, 'Delgado': 2, 'Aguirra': 2, 'Claro': 2, 'Paio': 10, 'Couto': 5, 'Velho': 9, 'Branco': 3, 'Rosa': 2, 'Manuel': 3, 'Queiros': 7, 'Calvo': 3, 'Passos': 6, 'Mourao': 5, 'Freitas': 4, 'Albuquerque': 2, 'Erosa': 1, 'Leitao': 5, 'Filgueira': 1, 'Chaves': 5, 'Luna': 1, 'Morais': 3, 'Cracel': 1, 'Caldas': 4, 'Santarem': 2, 'Silveira': 4, 'Lobarinhas': 2, 'Ribeira': 1, 'Espinosa': 2, 'Esteves': 1, 'Neiva': 1, 'Salgado': 7, 'Meira': 1, 'Sequeira': 1, 'Burgueira': 1, 'Taveira': 5, 'Aguiar': 3, 'Palhares': 3, 'Mendonca': 2, 'Ferro': 2, 'Baiao': 1, 'Crasto': 1, 'Franco': 1, 'Lomba': 6, 'Serra': 3, 'Pacheco': 4, 'Queiroga': 3, 'Eca': 3, 'Duarte': 2, 'Fraga': 1, 'Velhas': 1, 'Azamor': 1, 'Ballesteros': 2, 'Carnoto': 1, 'Nunes': 1, 'Marques': 3, 'Alvarenga': 1, 'Guilherme': 3, 'Castelao': 1, 'Pena': 2, 'Faia': 1, 'Osorio': 5, 'Campelo': 3, 'Gomes': 2, 'Mogueimes': 3, 'Sobrinho': 2, 'Dantas': 3, 'Figueira': 1, 'Alvares': 1, 'Barroso': 3, 'Serpe': 1, 'Malheiro': 1, 'Beca': 1, 'Santos': 6, 'Pedroso': 1, 'Loborao': 1, 'Escovar': 1, 'Santiago': 2, 'Cabo': 1, 'Cabral': 5, 'Colaco': 1, 'Corisco': 1, 'Seixas': 6, 'Calheiros': 1, 'Medonha': 1, 'Afonso': 1, 'Veiga': 2, 'Santo': 1, 'Lira': 2, 'Luis': 1, 'Batista': 1, 'Vilar': 1, 'Pinheiro': 5, 'Dias': 4, 'Godinho': 3, 'Portela': 1, 'Vargas': 1, 'Benavides': 1, 'Campilho': 1, 'Canto': 1, 'Trigueiro': 1, 'Fernandes': 1, 'Rato': 1, 'Sotil': 1, 'Jacome': 1, 'Bezerra': 2, 'Figueiroa': 3, 'Peito': 1, 'Fragoso': 1, 'Henriques': 1, 'Torrado': 1, 'Cana': 1, 'Cavaleiro': 1, 'Saraiva': 1, 'Moutinho': 4, 'Felgueira': 2, 'Gusmao': 1, 'Gilpado': 1, 'Barreira': 1, 'Furtado': 1, 'Pigarra': 1, 'Aires': 1, 'Prego': 1, 'Cota': 1, 'Cerveira': 2, 'Vilela': 1, 'Pais': 2, 'Paris': 1, 'Vilarinho': 2, 'Natario': 1, 'Parente': 1, 'Monte': 1, 'Carvalhais': 1, 'Leal': 1, 'Ramalho': 2, 'Socorro': 1, 'Canisso': 1, 'Padrao': 1, 'Ramos': 3, 'Vilaca': 2, 'Azeredo': 1, 'Fajardo': 1, 'Andrada': 1, 'Martins': 1, 'Antas': 1, 'Murca': 1, 'Antunes': 1, 'Fonte': 1, 'Bento': 1, 'Galee': 1, 'Beliago': 1, 'Guerra': 1, 'Soto': 1, 'Donis': 1, 'Cassao': 1, 'Maris': 1}}}\n"
     ]
    }
   ],
   "source": [
    "counter_nomes = {}\n",
    "\n",
    "regex2 = r'([aA-zZ]+) .* ([aA-zZ]+)'\n",
    "compile2 = re.compile(regex2)\n",
    "\n",
    "for c in confessados:\n",
    "    ano = int(c['data'][:4])\n",
    "    seculo = ((ano-1) // 100) + 1\n",
    "    \n",
    "    if seculo not in counter_nomes:\n",
    "        counter_nomes[seculo] = {'primeiro': {}, 'apelido': {}}\n",
    "\n",
    "    names = compile2.match(c['nome'])\n",
    "    if names != None:\n",
    "        primeiro = names.group(1)\n",
    "        apelido = names.group(2)\n",
    "\n",
    "        if primeiro not in counter_nomes[seculo]['primeiro']:\n",
    "            counter_nomes[seculo]['primeiro'][primeiro] = 0\n",
    "        if apelido not in counter_nomes[seculo]['apelido']:\n",
    "            counter_nomes[seculo]['apelido'][apelido] = 0\n",
    "\n",
    "        counter_nomes[seculo]['primeiro'][primeiro] += 1\n",
    "        counter_nomes[seculo]['apelido'][apelido] += 1\n",
    "\n",
    "print(counter_nomes)"
   ]
  },
  {
   "attachments": {},
   "cell_type": "markdown",
   "metadata": {},
   "source": [
    "> c) Calcula a frequência dos vários tipos de relação: irmão, sobrinho, etc.;"
   ]
  },
  {
   "cell_type": "code",
   "execution_count": 69,
   "metadata": {},
   "outputs": [
    {
     "name": "stdout",
     "output_type": "stream",
     "text": [
      "{'Tio Paterno': 1809, 'Tio Materno': 1870, 'Irmao': 11792, 'Primo Paterno': 153, 'Sobrinho Materno': 1631, 'Pai': 456, 'Filho': 325, 'Sobrinho Paterno': 1591, 'Irmaos': 608, 'Sobrinhos Maternos': 93, 'Irmao Paterno': 453, 'Neto Materno': 41, 'Sobrinhos Paternos': 53, 'Sobrinho Neto Paterno': 94, 'Primo': 625, 'Primo Materno': 220, 'Tio Avo Paterno': 91, 'Sobrinho Bisneto Paterno': 3, 'Tios Maternos': 15, 'Irmao Materno': 39, 'Irmaos Paternos': 17, 'Tio Avo Materno': 158, 'Sobrinho Neto Materno': 141, 'Avo Materno': 39, 'Filhos': 27, 'Avo Paterno': 9, 'Neto Paterno': 8, 'Tios Paternos': 12, 'Tio Bisavo Materno': 3, 'Primos': 12, 'Parente': 2, 'Irmaos Maternos': 3, 'Sobrinhos Netos Paternos': 2, 'Sobrinho Neto': 2, 'Tio Avo': 2, 'Tio Bisavo Paterno': 1, 'Sobrinhos Netos Maternos': 5, 'Sobrinho Bisneto Materno': 2, 'Primos Maternos': 1}\n"
     ]
    }
   ],
   "source": [
    "counter_relacao = {}\n",
    "\n",
    "regex3 = r'[aA-zZ\\s]*,([aA-zZ\\s]*)\\.[\\s]*Proc\\.[\\d]+\\.'\n",
    "compile3 = re.compile(regex3)\n",
    "\n",
    "for c in confessados:\n",
    "    relation = compile3.findall(c['obs'])\n",
    "\n",
    "    if relation != None:\n",
    "        for r in relation:\n",
    "            if r not in counter_relacao:\n",
    "                counter_relacao[r] = 0\n",
    "            counter_relacao[r] += 1\n",
    "\n",
    "print(counter_relacao)"
   ]
  },
  {
   "attachments": {},
   "cell_type": "markdown",
   "metadata": {},
   "source": [
    "> d) Converta os 20 primeiros registos num novo ficheiro de output mas em formato **Json**."
   ]
  },
  {
   "cell_type": "code",
   "execution_count": 72,
   "metadata": {},
   "outputs": [],
   "source": [
    "import json\n",
    "\n",
    "conf_json = confessados[:20]\n",
    "\n",
    "with open('output.json', 'w') as f:\n",
    "    json.dump(conf_json, f, indent=1)\n",
    "\n",
    "f.close()"
   ]
  }
 ],
 "metadata": {
  "kernelspec": {
   "display_name": "Python 3",
   "language": "python",
   "name": "python3"
  },
  "language_info": {
   "codemirror_mode": {
    "name": "ipython",
    "version": 3
   },
   "file_extension": ".py",
   "mimetype": "text/x-python",
   "name": "python",
   "nbconvert_exporter": "python",
   "pygments_lexer": "ipython3",
   "version": "3.10.6"
  },
  "orig_nbformat": 4,
  "vscode": {
   "interpreter": {
    "hash": "916dbcbb3f70747c44a77c7bcd40155683ae19c65e1c03b4aa3499c5328201f1"
   }
  }
 },
 "nbformat": 4,
 "nbformat_minor": 2
}

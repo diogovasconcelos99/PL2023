{
 "cells": [
  {
   "attachments": {},
   "cell_type": "markdown",
   "metadata": {},
   "source": [
    "# TPC2: Somador on/off\n",
    "\n",
    "(publicado em **2023.02.21**)\n",
    "\n",
    "Crie um programa em Python que tenha o seguinte comportamento:\n",
    "\n",
    "  * Pretende-se um programa que some todas as sequências de dígitos que encontre num texto;\n",
    "  * Prepare o programa para ler o texto do canal de entrada: stdin;\n",
    "  * Sempre que encontrar a string “Off” em qualquer combinação de maiúsculas e minúsculas, esse comportamento é desligado;\n",
    "  * Sempre que encontrar a string “On” em qualquer combinação de maiúsculas e minúsculas, esse comportamento é novamente ligado;\n",
    "  * Sempre que encontrar o caráter “=”, o resultado da soma é colocado na saída."
   ]
  },
  {
   "cell_type": "code",
   "execution_count": 9,
   "metadata": {},
   "outputs": [
    {
     "name": "stdout",
     "output_type": "stream",
     "text": [
      "soma = 18\n"
     ]
    }
   ],
   "source": [
    "import re\n",
    "\n",
    "num_regex = r'\\d+'\n",
    "regex = r'\\d+|[oO][nN]|[oO][fF][fF]|='\n",
    "\n",
    "on = True\n",
    "soma = 0\n",
    "\n",
    "line = input()\n",
    "\n",
    "processed = re.findall(regex, line)\n",
    "\n",
    "for word in processed:\n",
    "    if(re.fullmatch(r'[oO][nN]', word)):\n",
    "        on = True\n",
    "    elif(re.fullmatch(r'[oO][fF][fF]', word)):\n",
    "        on = False\n",
    "    elif(re.fullmatch(r'=', word)):\n",
    "        print('soma = ' + str(soma))\n",
    "    else:\n",
    "        if on:\n",
    "            if(re.fullmatch(r'\\d+', word)):\n",
    "                soma = soma + int(word)"
   ]
  }
 ],
 "metadata": {
  "kernelspec": {
   "display_name": "Python 3",
   "language": "python",
   "name": "python3"
  },
  "language_info": {
   "codemirror_mode": {
    "name": "ipython",
    "version": 3
   },
   "file_extension": ".py",
   "mimetype": "text/x-python",
   "name": "python",
   "nbconvert_exporter": "python",
   "pygments_lexer": "ipython3",
   "version": "3.10.6"
  },
  "orig_nbformat": 4,
  "vscode": {
   "interpreter": {
    "hash": "916dbcbb3f70747c44a77c7bcd40155683ae19c65e1c03b4aa3499c5328201f1"
   }
  }
 },
 "nbformat": 4,
 "nbformat_minor": 2
}

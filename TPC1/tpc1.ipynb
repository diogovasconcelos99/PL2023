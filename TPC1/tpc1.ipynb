{
 "cells": [
  {
   "attachments": {},
   "cell_type": "markdown",
   "metadata": {},
   "source": [
    "# TPC1: Análise de dados: doença cardíaca\n",
    "\n",
    "\n",
    "Descarregue o ficheiro de dados: `myheart.csv`\n",
    "\n",
    "Crie um programa em Python, conjunto de funções, que responda às seguintes questões:"
   ]
  },
  {
   "attachments": {},
   "cell_type": "markdown",
   "metadata": {},
   "source": [
    "* Crie uma função que lê a informação do ficheiro para um modelo, previamente pensado em memória;\n",
    "\n",
    "* Pense num modelo para guardar uma distribuição;"
   ]
  },
  {
   "cell_type": "code",
   "execution_count": null,
   "metadata": {},
   "outputs": [],
   "source": [
    "def read_csv_to_dict(csv_path):\n",
    "    data = {}\n",
    "\n",
    "    with open(csv_path, 'r') as csv:\n",
    "        fst = csv.readline()\n",
    "\n",
    "        for key in fst.replace('\\n','').split(','):\n",
    "            data[key] = []\n",
    "\n",
    "        for line in csv.readlines():\n",
    "            line = line.replace('\\n', '').split(',')\n",
    "        \n",
    "            keys = list(data.keys())\n",
    "            for i in range(0, len(keys)):\n",
    "                if(line[i].isnumeric()):\n",
    "                    line[i] = int(line[i])\n",
    "                data[keys[i]] = data[keys[i]] + [line[i]]\n",
    "    \n",
    "    return data\n"
   ]
  },
  {
   "attachments": {},
   "cell_type": "markdown",
   "metadata": {},
   "source": [
    "* Crie uma função que calcula a distribuição da doença por sexo;"
   ]
  },
  {
   "cell_type": "code",
   "execution_count": null,
   "metadata": {},
   "outputs": [],
   "source": [
    "def gender_dist(data):\n",
    "    result = {'M': 0, 'F': 0}\n",
    "\n",
    "    disease_values = data['temDoença']\n",
    "\n",
    "    for i in range(0, len(disease_values)):\n",
    "        if(disease_values[i] == 1):\n",
    "            gender = data['sexo'][i]\n",
    "            result[gender] = result[gender] + 1\n",
    "\n",
    "    return result\n",
    "\n",
    "#data = read_csv_to_dict('myheart.csv')\n",
    "#print(gender_dist(data))"
   ]
  },
  {
   "attachments": {},
   "cell_type": "markdown",
   "metadata": {},
   "source": [
    "* Crie uma função que calcula a distribuição da doença por escalões etários. Considere os seguintes escalões: [30-34], [35-39], [40-44], ..."
   ]
  },
  {
   "cell_type": "code",
   "execution_count": null,
   "metadata": {},
   "outputs": [],
   "source": [
    "def age_sorter(age):\n",
    "    age_aux = age//5\n",
    "    return '['+ str(age_aux*5) + '-' + str((age_aux*5+4)) + ']'\n",
    "\n",
    "def age_dist(data):\n",
    "    result = {}\n",
    "\n",
    "    disease_values = data['temDoença']\n",
    "\n",
    "    min_val = min(data['idade'])\n",
    "    max_val = max(data['idade'])\n",
    "    #print('minimum age: ' + str(min_val) + ', maximum age: ' + str(max_val) + '\\n')\n",
    "\n",
    "    for i in range(min_val, max_val+5, 5):\n",
    "        key = age_sorter(i)\n",
    "        result[key] = 0\n",
    "\n",
    "    for i in range(0, len(disease_values)):\n",
    "        if(disease_values[i] == 1):\n",
    "            age_sort = age_sorter(data['idade'][i])\n",
    "            result[age_sort] = result[age_sort] + 1\n",
    "\n",
    "    return result\n",
    "\n",
    "#data = read_csv_to_dict('myheart.csv')\n",
    "#print(age_dist(data))"
   ]
  },
  {
   "attachments": {},
   "cell_type": "markdown",
   "metadata": {},
   "source": [
    "* Crie uma função que calcula a distribuição da doença por níveis de colesterol. Considere um nível igual a um intervalo de 10 unidades, comece no limite inferior e crie os níveis necessários até abranger o limite superior;"
   ]
  },
  {
   "cell_type": "code",
   "execution_count": null,
   "metadata": {},
   "outputs": [],
   "source": [
    "def cholesterol_sorter(cholesterol):\n",
    "    cholesterol_aux = cholesterol//10\n",
    "    return '[' + str(cholesterol_aux*10) + '-' + str(cholesterol_aux*10+9) + ']'\n",
    "\n",
    "def cholesterol_dist(data):\n",
    "    result = {}\n",
    "\n",
    "    disease_values = data['temDoença']\n",
    "\n",
    "    min_val = min(data['colesterol'])\n",
    "    max_val = max(data['colesterol'])\n",
    "    print('minimal cholesterol level: ' + str(min_val) + ', maximum cholesterol level: ' + str(max_val) + '\\n')\n",
    "\n",
    "    for i in range(min_val, max_val, 10):\n",
    "        key = cholesterol_sorter(i)\n",
    "        result[key] = 0\n",
    "\n",
    "    for i in range(0, len(disease_values)):\n",
    "        if(disease_values[i] == 1):\n",
    "            cholesterol_sort = cholesterol_sorter(data['colesterol'][i])\n",
    "            result[cholesterol_sort] = result[cholesterol_sort] + 1\n",
    "\n",
    "    return result\n",
    "\n",
    "#data = read_csv_to_dict('myheart.csv')\n",
    "#print(cholesterol_dist(data))"
   ]
  },
  {
   "attachments": {},
   "cell_type": "markdown",
   "metadata": {},
   "source": [
    "* Crie uma função que imprime na forma de uma tabela uma distribuição;"
   ]
  },
  {
   "cell_type": "code",
   "execution_count": null,
   "metadata": {},
   "outputs": [],
   "source": [
    "def print_table(data, key):\n",
    "    if(key == 'sexo'):\n",
    "        processed = gender_dist(data)\n",
    "    elif(key == 'idade'):\n",
    "        processed = age_dist(data)\n",
    "    elif(key == 'colesterol'):\n",
    "        processed = cholesterol_dist(data)\n",
    "\n",
    "    print(key + ' | ' + 'nº doentes')\n",
    "    print('-----------------------------------------------')\n",
    "    \n",
    "    for k in list(processed.keys()):\n",
    "        print(k + ' | ' + str(processed[k]))\n",
    "        \n",
    "\n",
    "#data = read_csv_to_dict('myheart.csv')\n",
    "#print_table(data, 'colesterol')"
   ]
  },
  {
   "attachments": {},
   "cell_type": "markdown",
   "metadata": {},
   "source": [
    "* Especifique um programa que ao executar apresenta as tabelas correspondentes às distribuições pedidas;"
   ]
  },
  {
   "cell_type": "code",
   "execution_count": null,
   "metadata": {},
   "outputs": [],
   "source": [
    "csv = read_csv_to_dict('myheart.csv')\n",
    "\n",
    "print('Qual a tabela que pretende que seja impressa?')\n",
    "print('1 - Distribuição da doença por sexo')\n",
    "print('2 - Distribuição da doença por idade')\n",
    "print('3 - Distribuição da doença por níveis de colesterol')\n",
    "\n",
    "sw = int(input())\n",
    "if(sw == 1):\n",
    "        print_table(csv, 'sexo')\n",
    "elif(sw == 2):\n",
    "        print_table(csv, 'idade')\n",
    "elif(sw == 3):\n",
    "        print_table(csv, 'colesterol')"
   ]
  },
  {
   "attachments": {},
   "cell_type": "markdown",
   "metadata": {},
   "source": [
    "* Extra: explore o módulo matplotlib e crie gráficos para as suas distribuições."
   ]
  },
  {
   "cell_type": "code",
   "execution_count": null,
   "metadata": {},
   "outputs": [],
   "source": []
  }
 ],
 "metadata": {
  "kernelspec": {
   "display_name": "Python 3",
   "language": "python",
   "name": "python3"
  },
  "language_info": {
   "codemirror_mode": {
    "name": "ipython",
    "version": 3
   },
   "file_extension": ".py",
   "mimetype": "text/x-python",
   "name": "python",
   "nbconvert_exporter": "python",
   "pygments_lexer": "ipython3",
   "version": "3.10.6"
  },
  "orig_nbformat": 4,
  "vscode": {
   "interpreter": {
    "hash": "916dbcbb3f70747c44a77c7bcd40155683ae19c65e1c03b4aa3499c5328201f1"
   }
  }
 },
 "nbformat": 4,
 "nbformat_minor": 2
}
